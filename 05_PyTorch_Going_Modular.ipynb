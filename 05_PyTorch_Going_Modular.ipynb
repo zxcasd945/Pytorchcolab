{
  "nbformat": 4,
  "nbformat_minor": 0,
  "metadata": {
    "colab": {
      "provenance": [],
      "gpuType": "T4",
      "authorship_tag": "ABX9TyOckpv51lktfbCJkd4LrZEe",
      "include_colab_link": true
    },
    "kernelspec": {
      "name": "python3",
      "display_name": "Python 3"
    },
    "language_info": {
      "name": "python"
    },
    "accelerator": "GPU"
  },
  "cells": [
    {
      "cell_type": "markdown",
      "metadata": {
        "id": "view-in-github",
        "colab_type": "text"
      },
      "source": [
        "<a href=\"https://colab.research.google.com/github/zxcasd945/Pytorchcolab/blob/main/05_PyTorch_Going_Modular.ipynb\" target=\"_parent\"><img src=\"https://colab.research.google.com/assets/colab-badge.svg\" alt=\"Open In Colab\"/></a>"
      ]
    },
    {
      "cell_type": "code",
      "execution_count": 3,
      "metadata": {
        "id": "Q5-0uX4L9Vf2",
        "colab": {
          "base_uri": "https://localhost:8080/"
        },
        "outputId": "535ec483-cf13-4381-d698-3ae580d92a2c"
      },
      "outputs": [
        {
          "output_type": "stream",
          "name": "stdout",
          "text": [
            "data/pizza_steak_sushi already exist.\n",
            "Downloading pictures now...\n",
            "Unzipping data now...\n"
          ]
        }
      ],
      "source": [
        "# Get Data\n",
        "\n",
        "import os\n",
        "import requests\n",
        "import zipfile\n",
        "from pathlib import Path\n",
        "\n",
        "data_path = Path('data/')\n",
        "image_path = data_path/'pizza_steak_sushi'\n",
        "\n",
        "if image_path.is_dir():\n",
        "  print(f'{image_path} already exist.')\n",
        "else:\n",
        "  image_path.mkdir(parents = True, exist_ok=True)\n",
        "\n",
        "with open(data_path/'pizza_steak_sushi.zip', 'wb') as f:\n",
        "  request=requests.get('https://github.com/mrdbourke/pytorch-deep-learning/raw/main/data/pizza_steak_sushi.zip')\n",
        "  print('Downloading pictures now...')\n",
        "  f.write(request.content)\n",
        "with zipfile.ZipFile(data_path/'pizza_steak_sushi.zip','r') as zip:\n",
        "  print('Unzipping data now...')\n",
        "  zip.extractall(image_path)\n",
        "\n",
        "os.remove(data_path/'pizza_steak_sushi.zip')"
      ]
    },
    {
      "cell_type": "code",
      "source": [
        "# Create Datasets and dataloader (data_setup.py)\n",
        "\n",
        "%%writefile going_modular/data_setup.py\n",
        "\n",
        "import os\n",
        "import torchvision\n",
        "from torchvision import datasets, transforms\n",
        "from torch.utils.data import DataLoader\n",
        "\n",
        "NUM_WORKERS = os.cpu_count()\n",
        "transform=transforms.Compose([\n",
        "    transforms.Resize(size=(64,64)),\n",
        "    transforms.ToTensor()])\n",
        "\n",
        "def create_dataloader(train_dir,\n",
        "                      test_dir,\n",
        "                      transform,\n",
        "                      batch_size,\n",
        "                      num_workers: int=NUM_WORKERS):\n",
        "\n",
        "  train_data = datasets.ImageFolder(train_dir, transform = transform)\n",
        "  test_data = datasets.ImageFolder(test_dir, transform = transform)\n",
        "\n",
        "  train_dataloader = DataLoader(train_data,\n",
        "                                batch_size = batch_size,\n",
        "                                shuffle = True,\n",
        "                                num_workers = num_workers,\n",
        "                                pin_memory = True)\n",
        "  test_dataloader = DataLoader(test_data,\n",
        "                                batch_size = batch_size,\n",
        "                                shuffle = True,\n",
        "                                num_workers = num_workers,\n",
        "                                pin_memory = True)\n",
        "  class_names = train_data.classes\n",
        "\n",
        "  return train_dataloader, test_dataloader, class_names\n",
        "\n",
        "\n",
        "\n",
        "\n"
      ],
      "metadata": {
        "colab": {
          "base_uri": "https://localhost:8080/"
        },
        "id": "sxhYRP9TaSBc",
        "outputId": "b7c879bd-86ee-4509-d3fe-a63f2c75a14d"
      },
      "execution_count": 4,
      "outputs": [
        {
          "output_type": "stream",
          "name": "stdout",
          "text": [
            "Writing going_modular/data_setup.py\n"
          ]
        }
      ]
    },
    {
      "cell_type": "code",
      "source": [
        "from going_modular import data_setup\n",
        "from torchvision import datasets, transforms\n",
        "train_dir = 'data/pizza_steak_sushi/train'\n",
        "test_dir = 'data/pizza_steak_sushi/test'\n",
        "transform=transforms.Compose([\n",
        "    transforms.Resize(size=(64,64)),\n",
        "    transforms.ToTensor()])\n",
        "train_dataloader, test_dataloader,class_names = data_setup.create_dataloader(train_dir,\n",
        "                                                                             test_dir,\n",
        "                                                                             transform=transform,\n",
        "                                                                             batch_size=25,\n",
        "                                                                             num_workers=os.cpu_count())\n",
        "next(iter(train_dataloader))[1]"
      ],
      "metadata": {
        "colab": {
          "base_uri": "https://localhost:8080/"
        },
        "id": "HAHJx-eIg94F",
        "outputId": "9be806a4-8224-4d01-f8e2-43c876a06589"
      },
      "execution_count": 5,
      "outputs": [
        {
          "output_type": "execute_result",
          "data": {
            "text/plain": [
              "tensor([0, 1, 1, 0, 1, 2, 2, 2, 0, 0, 2, 2, 2, 2, 1, 1, 0, 2, 1, 1, 0, 1, 2, 2,\n",
              "        1])"
            ]
          },
          "metadata": {},
          "execution_count": 5
        }
      ]
    },
    {
      "cell_type": "code",
      "source": [
        "%%writefile going_modular/model_builder.py\n",
        "\"\"\"\n",
        "Contains PyTorch model code to instantiate a TinyVGG model.\n",
        "\"\"\"\n",
        "import torch\n",
        "from torch import nn\n",
        "\n",
        "class TinyVGG(nn.Module):\n",
        "    \"\"\"Creates the TinyVGG architecture.\n",
        "    Replicates the TinyVGG architecture from the CNN explainer website in PyTorch.\n",
        "    See the original architecture here: https://poloclub.github.io/cnn-explainer/\n",
        "    Args:\n",
        "    input_shape: An integer indicating number of input channels.\n",
        "    hidden_units: An integer indicating number of hidden units between layers.\n",
        "    output_shape: An integer indicating number of output units.\n",
        "    \"\"\"\n",
        "    def __init__(self, input_shape: int, hidden_units: int, output_shape: int) -> None:\n",
        "        super().__init__()\n",
        "        self.conv_block_1 = nn.Sequential(\n",
        "          nn.Conv2d(in_channels=input_shape,\n",
        "                    out_channels=hidden_units,\n",
        "                    kernel_size=3,\n",
        "                    stride=1,\n",
        "                    padding=0),\n",
        "          nn.ReLU(),\n",
        "          nn.Conv2d(in_channels=hidden_units,\n",
        "                    out_channels=hidden_units,\n",
        "                    kernel_size=3,\n",
        "                    stride=1,\n",
        "                    padding=0),\n",
        "          nn.ReLU(),\n",
        "          nn.MaxPool2d(kernel_size=2,\n",
        "                        stride=2)\n",
        "        )\n",
        "        self.conv_block_2 = nn.Sequential(\n",
        "          nn.Conv2d(hidden_units, hidden_units, kernel_size=3, padding=0),\n",
        "          nn.ReLU(),\n",
        "          nn.Conv2d(hidden_units, hidden_units, kernel_size=3, padding=0),\n",
        "          nn.ReLU(),\n",
        "          nn.MaxPool2d(2)\n",
        "        )\n",
        "        self.classifier = nn.Sequential(\n",
        "          nn.Flatten(),\n",
        "          # Where did this in_features shape come from?\n",
        "          # It's because each layer of our network compresses and changes the shape of our inputs data.\n",
        "          nn.Linear(in_features=hidden_units*13*13,\n",
        "                    out_features=output_shape)\n",
        "        )\n",
        "\n",
        "    def forward(self, x):\n",
        "        x = self.conv_block_1(x)\n",
        "        x = self.conv_block_2(x)\n",
        "        x = self.classifier(x)\n",
        "        return x\n",
        "        # return self.classifier(self.block_2(self.block_1(x))) # <- leverage the benefits of operator fusion\n"
      ],
      "metadata": {
        "colab": {
          "base_uri": "https://localhost:8080/"
        },
        "id": "afI8KVcOj-Cz",
        "outputId": "5894e25d-9dda-4097-d990-57d5ca91fb2e"
      },
      "execution_count": 6,
      "outputs": [
        {
          "output_type": "stream",
          "name": "stdout",
          "text": [
            "Writing going_modular/model_builder.py\n"
          ]
        }
      ]
    },
    {
      "cell_type": "code",
      "source": [
        "from going_modular import model_builder\n",
        "import torch\n",
        "device = 'cuda' if torch.cuda.is_available() else 'cpu'\n",
        "\n",
        "model = model_builder.TinyVGG(input_shape=3,\n",
        "                hidden_units= 10,\n",
        "                output_shape= 3).to(device)\n",
        "model"
      ],
      "metadata": {
        "colab": {
          "base_uri": "https://localhost:8080/"
        },
        "id": "dThSqRiN6yB_",
        "outputId": "6f5859d8-9488-4a77-cac6-32364db844b7"
      },
      "execution_count": 7,
      "outputs": [
        {
          "output_type": "execute_result",
          "data": {
            "text/plain": [
              "TinyVGG(\n",
              "  (conv_block_1): Sequential(\n",
              "    (0): Conv2d(3, 10, kernel_size=(3, 3), stride=(1, 1))\n",
              "    (1): ReLU()\n",
              "    (2): Conv2d(10, 10, kernel_size=(3, 3), stride=(1, 1))\n",
              "    (3): ReLU()\n",
              "    (4): MaxPool2d(kernel_size=2, stride=2, padding=0, dilation=1, ceil_mode=False)\n",
              "  )\n",
              "  (conv_block_2): Sequential(\n",
              "    (0): Conv2d(10, 10, kernel_size=(3, 3), stride=(1, 1))\n",
              "    (1): ReLU()\n",
              "    (2): Conv2d(10, 10, kernel_size=(3, 3), stride=(1, 1))\n",
              "    (3): ReLU()\n",
              "    (4): MaxPool2d(kernel_size=2, stride=2, padding=0, dilation=1, ceil_mode=False)\n",
              "  )\n",
              "  (classifier): Sequential(\n",
              "    (0): Flatten(start_dim=1, end_dim=-1)\n",
              "    (1): Linear(in_features=1690, out_features=3, bias=True)\n",
              "  )\n",
              ")"
            ]
          },
          "metadata": {},
          "execution_count": 7
        }
      ]
    },
    {
      "cell_type": "code",
      "source": [],
      "metadata": {
        "id": "N4qKc_PN7ETC"
      },
      "execution_count": 7,
      "outputs": []
    },
    {
      "cell_type": "code",
      "source": [
        "#Create train_step, test_step, and train() in function (engine.py)\n",
        "%%writefile going_modular/engine.py\n",
        "import torch\n",
        "\n",
        "def train_step(model,\n",
        "               dataloader,\n",
        "               loss_fn,\n",
        "               optimizer,\n",
        "               device):\n",
        "  model.train()\n",
        "  train_loss, train_acc = 0,0\n",
        "  for batch, (X,y) in enumerate(dataloader):\n",
        "    X,y = X.to(device), y.to(device)\n",
        "    y_pred = model(X)\n",
        "    loss = loss_fn(y_pred, y)\n",
        "    train_loss += loss.item()\n",
        "    optimizer.zero_grad()\n",
        "    loss.backward()\n",
        "    optimizer.step()\n",
        "    y_pred_class = torch.argmax(torch.softmax(y_pred, dim=1), dim=1)\n",
        "    train_acc += (y_pred_class == y).sum().item()/len(y_pred)\n",
        "  train_loss = train_loss/ len(dataloader)\n",
        "  train_acc = train_acc/ len(dataloader)\n",
        "  return train_loss, train_acc\n",
        "\n",
        "def test_step(model,\n",
        "               dataloader,\n",
        "               loss_fn,\n",
        "               device):\n",
        "  model.eval()\n",
        "  test_loss, test_acc = 0,0\n",
        "  with torch.inference_mode():\n",
        "    for batch, (X,y) in enumerate(dataloader):\n",
        "      X,y = X.to(device), y.to(device)\n",
        "      test_pred_logit= model(X)\n",
        "      loss = loss_fn(test_pred_logit, y)\n",
        "      test_loss += loss.item()\n",
        "      y_pred_label = test_pred_logit.argmax(dim=1)\n",
        "      test_acc += (y_pred_label == y).sum().item()/len(y_pred_label)\n",
        "  test_loss = test_loss/ len(dataloader)\n",
        "  test_acc = test_acc/ len(dataloader)\n",
        "\n",
        "  return test_loss, test_acc\n",
        "\n",
        "from tqdm.auto import tqdm\n",
        "\n",
        "def train(model,\n",
        "          train_dataloader,\n",
        "          test_dataloader,\n",
        "          loss_fn,\n",
        "          optimizer,\n",
        "          epochs,\n",
        "          device):\n",
        "  results = {'train_loss':[], 'train_acc':[], 'test_loss':[], 'test_acc':[]}\n",
        "  for epoch in tqdm(range(epochs)):\n",
        "    train_loss, train_acc = train_step(model = model,\n",
        "             dataloader = train_dataloader,\n",
        "             loss_fn = loss_fn,\n",
        "             optimizer = optimizer,\n",
        "             device = device)\n",
        "    test_loss, test_acc = test_step(model = model,\n",
        "            dataloader = test_dataloader,\n",
        "            loss_fn = loss_fn,\n",
        "            device = device)\n",
        "    print(f'Epoch:{epoch}, Train loss:{train_loss}, Train acc:{train_acc}, Test loss:{test_loss}, Test_acc:{test_acc}')\n",
        "    results['train_loss'].append(train_loss)\n",
        "    results['train_acc'].append(train_acc)\n",
        "    results['test_loss'].append(test_loss)\n",
        "    results['test_acc'].append(test_acc)\n",
        "\n",
        "  return results"
      ],
      "metadata": {
        "colab": {
          "base_uri": "https://localhost:8080/"
        },
        "id": "MyDje3iSnBwK",
        "outputId": "494098a8-ce11-476f-d376-03f6f5c3102c"
      },
      "execution_count": 8,
      "outputs": [
        {
          "output_type": "stream",
          "name": "stdout",
          "text": [
            "Writing going_modular/engine.py\n"
          ]
        }
      ]
    },
    {
      "cell_type": "code",
      "source": [
        "from going_modular import engine, data_setup\n",
        "import torch\n",
        "from torch import nn\n",
        "loss_fn = nn.CrossEntropyLoss()\n",
        "optimizer = torch.optim.Adam(params = model.parameters(),\n",
        "                             lr=0.001)\n",
        "transform=transforms.Compose([transforms.Resize((64,64)),\n",
        "                              transforms.ToTensor()])\n",
        "EPOCHS = 5\n",
        "train_dir = 'data/pizza_steak_sushi/train'\n",
        "test_dir = 'data/pizza_steak_sushi/test'\n",
        "train_dataloader, test_dataloader,class_names = data_setup.create_dataloader(train_dir,\n",
        "                                                                             test_dir,\n",
        "                                                                             transform=transform,\n",
        "                                                                             batch_size=25,\n",
        "                                                                             num_workers=os.cpu_count())\n",
        "next(iter(train_dataloader))[1]\n"
      ],
      "metadata": {
        "colab": {
          "base_uri": "https://localhost:8080/"
        },
        "id": "tketOlQP8iKU",
        "outputId": "26ffa14c-1087-4ec4-cff5-be53ef83a5ef"
      },
      "execution_count": 9,
      "outputs": [
        {
          "output_type": "execute_result",
          "data": {
            "text/plain": [
              "tensor([0, 1, 2, 1, 0, 2, 0, 1, 1, 0, 1, 2, 1, 1, 1, 2, 0, 0, 0, 0, 1, 1, 2, 1,\n",
              "        0])"
            ]
          },
          "metadata": {},
          "execution_count": 9
        }
      ]
    },
    {
      "cell_type": "code",
      "source": [
        "#A function to save the model(utils.py)\n",
        "\n",
        "%%writefile going_modular/utils.py\n",
        "\n",
        "import torch\n",
        "from pathlib import Path\n",
        "\n",
        "def save_model(model,\n",
        "               target_dir,\n",
        "               model_name):\n",
        "  target_dir_path = Path(target_dir)\n",
        "  target_dir_path.mkdir(parents=True, exist_ok = True)\n",
        "  assert model_name.endwith('.pth') or model_name.endwith('.pt'),'model name should end with .pth or .pt'\n",
        "  model_save_path = target_dir_path/model_name\n",
        "  print(f'[INFO]: Saving model to {model_save_path}')\n",
        "  torch.save(obj=model.state_dict(), f=model_save_path)"
      ],
      "metadata": {
        "colab": {
          "base_uri": "https://localhost:8080/"
        },
        "id": "ND8JrfGyntIe",
        "outputId": "1c4548fa-f7cf-4a00-b750-95090d997f7b"
      },
      "execution_count": 10,
      "outputs": [
        {
          "output_type": "stream",
          "name": "stdout",
          "text": [
            "Writing going_modular/utils.py\n"
          ]
        }
      ]
    },
    {
      "cell_type": "code",
      "source": [
        "%%writefile train.py\n",
        "\n",
        "import os\n",
        "import torch\n",
        "from torch import nn\n",
        "from torchvision import transforms\n",
        "from going_modular import engine, data_setup, model_builder, utils\n",
        "import argparse\n",
        "\n",
        "parser = argparse.ArgumentParser(description='Get hyperparams')\n",
        "parser.add_argument('--batch_size', default = 25, type=int, help='The number of samples per batch')\n",
        "parser.add_argument('--num_epochs', default = 10, type = int, help='The number of epochs')\n",
        "parser.add_argument('--hidden_units', default = 10, type = int, help = 'The number of hidden units per layer')\n",
        "parser.add_argument('--lr', default= 0.001, type = float, help='Learning rate')\n",
        "\n",
        "args = parser.parse_known_args()[0]\n",
        "BATCH_SIZE = args.batch_size\n",
        "NUM_EPOCHS = args.num_epochs\n",
        "HIDDEN_UNITS = args.hidden_units\n",
        "LEARNING_RATE = args.lr\n",
        "EPOCHS = args.num_epochs\n",
        "\n",
        "print(f'[INFO] Training model for {NUM_EPOCHS}, Batch size:{BATCH_SIZE}, Hidden units: {HIDDEN_UNITS}, Learning rate:{LEARNING_RATE}')\n",
        "\n",
        "train_dir = 'data/pizza_steak_sushi/train'\n",
        "test_dir = 'data/pizza_steak_sushi/test'\n",
        "\n",
        "device = 'cuda' if torch.cuda.is_available() else 'cpu'\n",
        "\n",
        "loss_fn = nn.CrossEntropyLoss()\n",
        "transform=transforms.Compose([transforms.Resize((64,64)),\n",
        "                              transforms.ToTensor()])\n",
        "train_dataloader, test_dataloader,class_names = data_setup.create_dataloader(train_dir,\n",
        "                                                                             test_dir,\n",
        "                                                                             transform=transform,\n",
        "                                                                             batch_size=BATCH_SIZE,\n",
        "                                                                             num_workers=os.cpu_count())\n",
        "model = model_builder.TinyVGG(input_shape=3,\n",
        "                hidden_units= HIDDEN_UNITS,\n",
        "                output_shape=len(class_names)).to(device)\n",
        "optimizer = torch.optim.Adam(params = model.parameters(),\n",
        "                             lr=LEARNING_RATE)\n",
        "\n",
        "\n",
        "\n",
        "\n",
        "\n",
        "\n",
        "engine.train(model=model,\n",
        "          train_dataloader = train_dataloader,\n",
        "          test_dataloader = test_dataloader,\n",
        "          loss_fn=loss_fn,\n",
        "          optimizer=optimizer,\n",
        "          epochs=EPOCHS,\n",
        "          device=device)\n"
      ],
      "metadata": {
        "colab": {
          "base_uri": "https://localhost:8080/"
        },
        "id": "o-x9cfwarxIX",
        "outputId": "b0e25bee-2138-465f-db59-b51bed901298"
      },
      "execution_count": 11,
      "outputs": [
        {
          "output_type": "stream",
          "name": "stdout",
          "text": [
            "Writing train.py\n"
          ]
        }
      ]
    },
    {
      "cell_type": "code",
      "source": [
        "!python train.py --num_epochs 5 --batch_size 128 --hidden_units 128 --learning_rate 0.0003"
      ],
      "metadata": {
        "colab": {
          "base_uri": "https://localhost:8080/"
        },
        "id": "SIqGEqbT7RUi",
        "outputId": "a2a11678-b648-4b82-a132-9ff2e936634e"
      },
      "execution_count": 12,
      "outputs": [
        {
          "output_type": "stream",
          "name": "stdout",
          "text": [
            "[INFO] Training model for 5, Batch size:128, Hidden units: 128, Learning rate:0.001\n",
            "  0% 0/5 [00:00<?, ?it/s]Epoch:0, Train loss:1.1456499099731445, Train acc:0.34604542525773196, Test loss:1.0994929075241089, Test_acc:0.25333333333333335\n",
            " 20% 1/5 [00:02<00:11,  2.91s/it]Epoch:1, Train loss:1.1010570526123047, Train acc:0.41132409793814434, Test loss:1.1004853248596191, Test_acc:0.25333333333333335\n",
            " 40% 2/5 [00:05<00:07,  2.63s/it]Epoch:2, Train loss:1.0996432900428772, Train acc:0.38587306701030927, Test loss:1.0850486755371094, Test_acc:0.37333333333333335\n",
            " 60% 3/5 [00:06<00:04,  2.15s/it]Epoch:3, Train loss:1.0720674395561218, Train acc:0.46915270618556704, Test loss:1.0747480392456055, Test_acc:0.38666666666666666\n",
            " 80% 4/5 [00:08<00:01,  1.92s/it]Epoch:4, Train loss:1.0301424264907837, Train acc:0.49585212628865977, Test loss:1.106109619140625, Test_acc:0.36\n",
            "100% 5/5 [00:10<00:00,  2.01s/it]\n"
          ]
        }
      ]
    },
    {
      "cell_type": "code",
      "source": [],
      "metadata": {
        "id": "daMts1Kp4a-2"
      },
      "execution_count": 12,
      "outputs": []
    }
  ]
}